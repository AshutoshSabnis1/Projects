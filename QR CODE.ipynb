{
 "cells": [
  {
   "cell_type": "code",
   "execution_count": 7,
   "id": "d264d475",
   "metadata": {},
   "outputs": [],
   "source": [
    "import qrcode\n",
    "\n",
    "# Data to be encoded\n",
    "data = \"https://www.example.com\"\n",
    "\n",
    "# Create QR code instance\n",
    "qr = qrcode.QRCode(\n",
    "    version=1,  # controls the size of the QR Code\n",
    "    error_correction=qrcode.constants.ERROR_CORRECT_H,\n",
    "    box_size=10,\n",
    "    border=4,\n",
    ")\n",
    "\n",
    "# Add data to the QR code\n",
    "qr.add_data(data)\n",
    "qr.make(fit=True)\n",
    "\n",
    "# Create an image from the QR Code instance\n",
    "img = qr.make_image(fill='black', back_color='white')\n",
    "\n",
    "# Save the image\n",
    "img.save(\"qrcode.png\")\n"
   ]
  },
  {
   "cell_type": "code",
   "execution_count": 8,
   "id": "d510830f",
   "metadata": {},
   "outputs": [],
   "source": [
    "import qrcode\n",
    "from tkinter import *\n",
    "from tkinter import filedialog\n",
    "\n",
    "def generate_qr():\n",
    "    # Get data from entry box\n",
    "    data = entry.get()\n",
    "    \n",
    "    # Generate QR code\n",
    "    qr = qrcode.QRCode(\n",
    "        version=1,\n",
    "        error_correction=qrcode.constants.ERROR_CORRECT_H,\n",
    "        box_size=10,\n",
    "        border=4,\n",
    "    )\n",
    "    qr.add_data(data)\n",
    "    qr.make(fit=True)\n",
    "    img = qr.make_image(fill='black', back_color='white')\n",
    "    \n",
    "    # Save the image\n",
    "    file_path = filedialog.asksaveasfilename(defaultextension=\".png\", filetypes=[(\"PNG files\", \"*.png\"), (\"All files\", \"*.*\")])\n",
    "    if file_path:\n",
    "        img.save(file_path)\n",
    "\n",
    "# Create the GUI window\n",
    "root = Tk()\n",
    "root.title(\"QR Code Generator\")\n",
    "\n",
    "# Create a label\n",
    "label = Label(root, text=\"Enter data for QR code:\")\n",
    "label.pack(pady=10)\n",
    "\n",
    "# Create an entry box\n",
    "entry = Entry(root, width=50)\n",
    "entry.pack(pady=10)\n",
    "\n",
    "# Create a button to generate QR code\n",
    "button = Button(root, text=\"Generate QR Code\", command=generate_qr)\n",
    "button.pack(pady=20)\n",
    "\n",
    "# Run the GUI loop\n",
    "root.mainloop()\n",
    "\n"
   ]
  },
  {
   "cell_type": "code",
   "execution_count": null,
   "id": "0552d4b5",
   "metadata": {},
   "outputs": [],
   "source": []
  },
  {
   "cell_type": "raw",
   "id": "fcfdc73b",
   "metadata": {},
   "source": []
  }
 ],
 "metadata": {
  "kernelspec": {
   "display_name": "Python 3 (ipykernel)",
   "language": "python",
   "name": "python3"
  },
  "language_info": {
   "codemirror_mode": {
    "name": "ipython",
    "version": 3
   },
   "file_extension": ".py",
   "mimetype": "text/x-python",
   "name": "python",
   "nbconvert_exporter": "python",
   "pygments_lexer": "ipython3",
   "version": "3.11.4"
  }
 },
 "nbformat": 4,
 "nbformat_minor": 5
}
